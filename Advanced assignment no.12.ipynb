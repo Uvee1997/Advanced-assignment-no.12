{
 "cells": [
  {
   "cell_type": "markdown",
   "id": "0a13bb7c",
   "metadata": {},
   "source": [
    "1) Does assigning a value to a string's indexed character violate Python's string immutability ?\n",
    "\n",
    ":- Yes, In python strings are ordered in sequence of character data and thus can be index in this way"
   ]
  },
  {
   "cell_type": "markdown",
   "id": "c2b16f0e",
   "metadata": {},
   "source": [
    "2) Does using the += operator to concatenate strings violate Python's string immutability? Why or why not ?\n",
    "\n",
    ":- Yes, but with += on immutable objects, the old and new values are supposed to have overlapping lifetime. \n",
    "    The new value is supposed to be created before the assignment happens, and the old value's \n",
    "    lifetime only ends once the new value is assigned to the variable."
   ]
  },
  {
   "cell_type": "markdown",
   "id": "e746e3de",
   "metadata": {},
   "source": [
    "3) In Python, how many different ways are there to index a character ?\n",
    "\n",
    ":- We can access string in 2 different way. Accessing character by Positive Index Number & Negative Index Number  "
   ]
  },
  {
   "cell_type": "markdown",
   "id": "cbaaca5b",
   "metadata": {},
   "source": [
    "4) What is the relationship between indexing and slicing ?\n",
    "\n",
    ":- Indexing means referring to element of an iterable by its position within itrable. \n",
    "   Slicing means getting subset of elements from the itrable based on there indices "
   ]
  },
  {
   "cell_type": "markdown",
   "id": "7f0214a1",
   "metadata": {},
   "source": [
    "5) What is the relationship between string and character \"types\" in Python ?\n",
    "\n",
    ":- Strings are arrays of bytes represting unicode character, Python does not have character data type\n",
    "   a single character is simply a string with a length of 1. Square brackets can be used to access elements of the string. "
   ]
  },
  {
   "cell_type": "markdown",
   "id": "91989b89",
   "metadata": {},
   "source": [
    "6) Identify at least two operators and one method that allow you to combine one or more smaller\n",
    "   strings to create a larger string.\n",
    "    \n",
    ":- Concatination is used to joining two strings together. [concat()method]. We can also used addition operater    "
   ]
  },
  {
   "cell_type": "markdown",
   "id": "09aa2cb1",
   "metadata": {},
   "source": [
    "7) Which operators and built-in string methods produce simple Boolean (true/false) results ?\n",
    "\n",
    ":- Python Boolean produced simple boolean result."
   ]
  }
 ],
 "metadata": {
  "kernelspec": {
   "display_name": "Python 3 (ipykernel)",
   "language": "python",
   "name": "python3"
  },
  "language_info": {
   "codemirror_mode": {
    "name": "ipython",
    "version": 3
   },
   "file_extension": ".py",
   "mimetype": "text/x-python",
   "name": "python",
   "nbconvert_exporter": "python",
   "pygments_lexer": "ipython3",
   "version": "3.9.7"
  }
 },
 "nbformat": 4,
 "nbformat_minor": 5
}
